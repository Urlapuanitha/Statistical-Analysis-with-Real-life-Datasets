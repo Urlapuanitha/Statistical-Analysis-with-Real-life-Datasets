{
 "cells": [
  {
   "cell_type": "markdown",
   "id": "0b9e1077-54bc-44a8-bf13-9405a226334b",
   "metadata": {},
   "source": [
    "\"Introduction\""
   ]
  },
  {
   "cell_type": "markdown",
   "id": "9017e75b-239e-4045-907a-e90beb34e15b",
   "metadata": {},
   "source": [
    "Statistical analysis is a fundamental aspect of data science and machine learning. By understanding and applying statistical methods, you can derive meaningful insights from datasets, make predictions, and inform decision-making. In this session, we will explore the basics of statistical analysis using Python, leveraging libraries like pandas, numpy, and scipy. We will use various datasets, including the built-in Diabetes dataset from the sklearn library, and explore how to apply statistical methods to datasets from sources like Kaggle and the UCI Machine Learning Repository.\n"
   ]
  },
  {
   "cell_type": "markdown",
   "id": "088c01a7-8a4b-45a4-86e4-133a4a858ac7",
   "metadata": {},
   "source": [
    "\"Section 1: Basic Concepts in Statistics\""
   ]
  },
  {
   "cell_type": "markdown",
   "id": "d173ac2c-2867-4f72-a01b-9e9e39c07fa3",
   "metadata": {},
   "source": [
    "Before diving into statistical analysis, it’s essential to understand some fundamental concepts:"
   ]
  },
  {
   "cell_type": "markdown",
   "id": "4f3a6f2f-ca4c-4a08-8d4d-fc409fc9f3ff",
   "metadata": {},
   "source": [
    "\"1.1 Population and Sample\""
   ]
  },
  {
   "cell_type": "markdown",
   "id": "1635a80a-ff26-4f0c-a2a9-8a540454e196",
   "metadata": {},
   "source": [
    "Population: In statistics, a population refers to the complete set of all possible observations or measurements that could be made about a particular subject. For example, if we are studying the heights of all adults in a city, the population would include every adult in that city.\r\n",
    "Sample: A sample is a subset of the population selected for the actual study. Sampling is necessary because it is often impractical or impossible to collect data from an entire population due to time, cost, and logistical constraints. In the same example, a sample might consist of 500 randomly selected adults from the city."
   ]
  },
  {
   "cell_type": "markdown",
   "id": "d0777be0-ea49-45cd-ac05-4ac5592712fc",
   "metadata": {},
   "source": [
    "\"1.2 Need for Sampling in Statistics\""
   ]
  },
  {
   "cell_type": "markdown",
   "id": "00bfb62e-8cf4-42cf-81fc-45dedef201c7",
   "metadata": {},
   "source": [
    "Sampling is a powerful tool in statistics that allows researchers to make inferences about a population without needing to study every individual. The main reasons for sampling include:\r\n",
    "\r\n",
    "Cost Efficiency: Studying a whole population can be very costly. Sampling reduces the resources needed for data collection.\r\n",
    "Time Efficiency: Gathering data from an entire population can take a long time. Sampling provides quicker insights and results.\r\n",
    "Feasibility: In many cases, it’s simply not feasible to collect data from everyone (e.g., when testing a new drug).\r\n",
    "Manageability: Smaller, manageable samples make data analysis simpler and more straightforward."
   ]
  },
  {
   "cell_type": "markdown",
   "id": "5f15a133-24a1-4815-914e-92b417406d30",
   "metadata": {},
   "source": [
    "1.3 \"Benefits of Sampling\""
   ]
  },
  {
   "cell_type": "markdown",
   "id": "e63244d2-22a0-4ed1-b2c2-b8b69233e7c7",
   "metadata": {},
   "source": [
    "\"Accuracy\": With proper sampling techniques, the results from a sample can accurately reflect the population.\r\n",
    "Less Data Overhead: Handling and analyzing a sample is less overwhelming than dealing with massive amounts of data.\r\n",
    "Focused Research: Allows for more detailed analysis and can be tailored to specific aspects of a population."
   ]
  },
  {
   "cell_type": "markdown",
   "id": "c4f26dc3-08b2-44e7-bbb7-5d6d2abb350d",
   "metadata": {},
   "source": [
    "Section 2: \"Understanding Basic Statistical Methods\""
   ]
  },
  {
   "cell_type": "markdown",
   "id": "792ed535-a451-4bcc-b179-7c7b0ad6e164",
   "metadata": {},
   "source": [
    "2.1 \"Descriptive Statistics\""
   ]
  },
  {
   "cell_type": "markdown",
   "id": "a323463d-64a6-4da9-a8d9-7eeaa077865f",
   "metadata": {},
   "source": [
    "Descriptive statistics are essential for understanding the basic features of a dataset. They provide simple summaries about the sample and the measures, forming the basis of virtually every quantitative analysis of data. Descriptive statistics help to simplify large amounts of data in a sensible way. Each descriptive statistic reduces lots of data into a simpler summary.\r\n",
    "\r\n",
    "Here are the key measures of descriptive statistics:\"\r\n",
    "\r\n",
    "M\"\n",
    "an: The mean, often referred to as the average, is the sum of all values in a dataset divided by the number of values. It is a measure of central tendency that gives us an idea of the “central” value of a dataset. The mean is sensitive to outliers (extremely high or low values) and may not accurately reflect the central tendency if the dataset is skew\"ed.\r\n",
    "M\"e\n",
    "ian: The median is the middle value of a dataset when it is ordered from smallest to largest. If there is an even number of observations, the median is the average of the two middle values. The median is a robust measure of central tendency, meaning it is not affected by outliers. It is particularly useful for skewed distributi\"ons.\"\r\n",
    "Mode: The mode is the value that appears most frequently in a dataset. A dataset may have one mode, more than one mode (bimodal or multimodal), or no mode at all if all values are unique. The mode is useful for categorical data where we want to know which is the most common category.\r\n",
    "Standard Deviation (SD): The standard deviation measures the amount of variation or dispersion in a dataset. A low standard deviation indicates that the data points tend to be close to the mean, whereas a high standard deviation indicates that the data points are spread out over a wider range of values. The standard deviation is the square root of the var\"iance.\r\n",
    "\"V\n",
    "riance: Variance is a measure of how far each value in the dataset is from the mean, and thus from every other value in the dataset. It is the average of the squared differences from the mean. Variance gives us a general idea of the spread of the data but is in squared units, which can make interpretation less intuitive compared to standard dev\"iatio\"n.\n",
    "\r\n",
    "Range: The range is the difference between the maximum and minimum values in a dataset. It provides a measure of how spread out the values are. However, the range is sensitive to outliers and does not give any information about the distribution of values within the dataset."
   ]
  },
  {
   "cell_type": "markdown",
   "id": "71aafeae-029f-4dc7-91d2-a9fa32ce30e4",
   "metadata": {},
   "source": [
    "\"Additional Descriptive Measures\":"
   ]
  },
  {
   "cell_type": "markdown",
   "id": "eb69c552-0243-4f24-8546-30cff09fd17a",
   "metadata": {},
   "source": [
    "\"Percentiles and Quartiles\": \n",
    "Percentiles are measures that indicate the value below which a given percentage of observations fall. Quartiles divide the dataset into four equal parts. The 25th percentile is the first quartile (Q1), the 50th percentile is the second quartile (Q2, also the median), and the 75th percentile is the third quartile (Q3). Quartiles and percentiles provide insight into the distribution and spread of the data.\r",
    "\"\n",
    "Interquartile Range (IQR\")\n",
    " The IQR is the range of the middle 50% of the values in a dataset, calculated as the difference between the third quartile (Q3) and the first quartile (Q1). The IQR is a robust measure of spread and is useful for identifying outliers.\"S\n",
    "Skewne\"ss\n",
    ": Skewness measures the asymmetry of the data distribution. A positive skew indicates that the right tail of the distribution is longer or fatter than the left tail (right-skewed). A negative skew indicates that the left tail is longer or fatter than the right tail (left-skewed). Skewness provides insights into the direction and degree of asymmetry in the data\".\r\n",
    "Kurto\"s\n",
    "s: Kurtosis measures the “tailedness” or the peak of the data distribution. High kurtosis means that the data have heavy tails or outliers, whereas low kurtosis indicates light tails or fewer outliers. Kurtosis helps in understanding the extremity of deviations from the mean."
   ]
  },
  {
   "cell_type": "markdown",
   "id": "99b09bba-6540-4212-ac4a-7688413080c0",
   "metadata": {},
   "source": [
    "By using these descriptive statistics, you can gain a better understanding of the dataset’s characteristics, including its central tendency, variability, and distribution shape. These measures are foundational for further statistical analysis and hypothesis testing, enabling more informed decision-making based on the data."
   ]
  },
  {
   "cell_type": "markdown",
   "id": "6df18903-0654-4ac9-a919-ca8d631e6151",
   "metadata": {},
   "source": [
    "2.2 \"Inferential Statistics\""
   ]
  },
  {
   "cell_type": "markdown",
   "id": "271b6a6a-26dd-468f-bf05-b7232acb15c3",
   "metadata": {},
   "source": [
    "Inferential statistics allow us to make predictions or inferences about a population based on a sample of data. Unlike descriptive statistics, which simply summarize data, inferential statistics help us draw conclusions and make predictions beyond the immediate data.\r\n",
    "\"\r\n",
    "Common Methods of Inferential Statisti\"cs:\"\r\n",
    "\r\n",
    "Hypothesis Tes\"t\n",
    "ng: Hypothesis testing involves evaluating a hypothesis about a population parameter based on sample data. It allows us to determine if there is enough evidence to reject a null hypothesis in favor of an alternative hypothesis. This method is widely used in scientific research to test theories and assumptio\"ns.\r\n",
    "Confidence Inte\"r\n",
    "als: A confidence interval is a range of values, derived from the sample data, that is likely to contain the true population parameter. Confidence intervals provide an estimate of the uncertainty associated with a sample statistic, allowing researchers to gauge the precision of their estimates.\r\n",
    "Regression Analysis: Regression analysis is used to model the relationship between dependent and independent variables. It helps in understanding how the typical value of the dependent variable changes when any one of the independent variables is varied. Regression analysis is fundamental in predicting outcomes and identifying trends in \"data.\r\n",
    "ANOVA (Analysis of Va\"ri\n",
    "ance): ANOVA is a statistical method used to compare the means of three or more groups to see if they are significantly different from each other. It is commonly used in experimental research to test the effects of different treatments or condi\"tions.\r\n",
    "Chi-Squ\"ar\n",
    "e Test: The chi-square test is used to test the independence of two categorical variables. It is particularly useful in survey research and marketing studies to examine relationships between different categorical data points.\r\n",
    "Inferential statistics are powerful tools that allow us to go beyond mere description and make predictions about broader populations. By applying these methods, you can draw meaningful conclusions from your data and make informed decisions based on statistical evidence."
   ]
  },
  {
   "cell_type": "code",
   "execution_count": 23,
   "id": "37417fb6-e809-4434-81f5-f129a1aa1117",
   "metadata": {},
   "outputs": [
    {
     "name": "stdout",
     "output_type": "stream",
     "text": [
      "Requirement already satisfied: pandas in c:\\users\\anits-csm\\anaconda3\\lib\\site-packages (2.1.4)\n",
      "Requirement already satisfied: numpy in c:\\users\\anits-csm\\anaconda3\\lib\\site-packages (1.26.4)\n",
      "Requirement already satisfied: scipy in c:\\users\\anits-csm\\anaconda3\\lib\\site-packages (1.11.4)\n",
      "Requirement already satisfied: scikit-learn in c:\\users\\anits-csm\\anaconda3\\lib\\site-packages (1.2.2)\n",
      "Requirement already satisfied: statsmodels in c:\\users\\anits-csm\\anaconda3\\lib\\site-packages (0.14.0)\n",
      "Requirement already satisfied: python-dateutil>=2.8.2 in c:\\users\\anits-csm\\anaconda3\\lib\\site-packages (from pandas) (2.8.2)\n",
      "Requirement already satisfied: pytz>=2020.1 in c:\\users\\anits-csm\\anaconda3\\lib\\site-packages (from pandas) (2023.3.post1)\n",
      "Requirement already satisfied: tzdata>=2022.1 in c:\\users\\anits-csm\\anaconda3\\lib\\site-packages (from pandas) (2023.3)\n",
      "Requirement already satisfied: joblib>=1.1.1 in c:\\users\\anits-csm\\anaconda3\\lib\\site-packages (from scikit-learn) (1.2.0)\n",
      "Requirement already satisfied: threadpoolctl>=2.0.0 in c:\\users\\anits-csm\\anaconda3\\lib\\site-packages (from scikit-learn) (2.2.0)\n",
      "Requirement already satisfied: patsy>=0.5.2 in c:\\users\\anits-csm\\anaconda3\\lib\\site-packages (from statsmodels) (0.5.3)\n",
      "Requirement already satisfied: packaging>=21.3 in c:\\users\\anits-csm\\anaconda3\\lib\\site-packages (from statsmodels) (23.1)\n",
      "Requirement already satisfied: six in c:\\users\\anits-csm\\anaconda3\\lib\\site-packages (from patsy>=0.5.2->statsmodels) (1.16.0)\n",
      "Note: you may need to restart the kernel to use updated packages.\n"
     ]
    }
   ],
   "source": [
    "pip install pandas numpy scipy scikit-learn statsmodels"
   ]
  },
  {
   "cell_type": "markdown",
   "id": "dff1e64c-ca53-45a9-88ae-c14958b2582b",
   "metadata": {},
   "source": [
    "6.1 \"Loading the Diabetes Dataset\""
   ]
  },
  {
   "cell_type": "code",
   "execution_count": 24,
   "id": "9f06e67c-1ddb-44c3-96fc-01c78d525d38",
   "metadata": {},
   "outputs": [
    {
     "name": "stdout",
     "output_type": "stream",
     "text": [
      "   sepal length (cm)  sepal width (cm)  petal length (cm)  petal width (cm)  \\\n",
      "0                5.1               3.5                1.4               0.2   \n",
      "1                4.9               3.0                1.4               0.2   \n",
      "2                4.7               3.2                1.3               0.2   \n",
      "3                4.6               3.1                1.5               0.2   \n",
      "4                5.0               3.6                1.4               0.2   \n",
      "\n",
      "   target  \n",
      "0       0  \n",
      "1       0  \n",
      "2       0  \n",
      "3       0  \n",
      "4       0  \n"
     ]
    }
   ],
   "source": [
    "import pandas as pd\n",
    "from sklearn.datasets import load_iris\n",
    "\n",
    "# Load the dataset\n",
    "iris= load_iris()\n",
    "df = pd.DataFrame(data=iris.data, columns=iris.feature_names)\n",
    "df['target'] = iris.target\n",
    "\n",
    "# Display the first few rows\n",
    "print(df.head())"
   ]
  },
  {
   "cell_type": "markdown",
   "id": "956e6d8c-bb9a-4418-9edf-7da5018c8c19",
   "metadata": {},
   "source": [
    "6.2 \"Performing Descriptive Statistics\""
   ]
  },
  {
   "cell_type": "code",
   "execution_count": 25,
   "id": "6b5a8ef2-3c2d-4dae-88aa-bc3e512a4de1",
   "metadata": {},
   "outputs": [
    {
     "name": "stdout",
     "output_type": "stream",
     "text": [
      "Mean:\n",
      " sepal length (cm)    5.843333\n",
      "sepal width (cm)     3.057333\n",
      "petal length (cm)    3.758000\n",
      "petal width (cm)     1.199333\n",
      "target               1.000000\n",
      "dtype: float64\n",
      "\n",
      "Median:\n",
      " sepal length (cm)    5.80\n",
      "sepal width (cm)     3.00\n",
      "petal length (cm)    4.35\n",
      "petal width (cm)     1.30\n",
      "target               1.00\n",
      "dtype: float64\n",
      "\n",
      "Mode:\n",
      " sepal length (cm)    5.0\n",
      "sepal width (cm)     3.0\n",
      "petal length (cm)    1.4\n",
      "petal width (cm)     0.2\n",
      "target               0.0\n",
      "Name: 0, dtype: float64\n",
      "\n",
      "Standard Deviation:\n",
      " sepal length (cm)    0.828066\n",
      "sepal width (cm)     0.435866\n",
      "petal length (cm)    1.765298\n",
      "petal width (cm)     0.762238\n",
      "target               0.819232\n",
      "dtype: float64\n",
      "\n",
      "Variance:\n",
      " sepal length (cm)    0.685694\n",
      "sepal width (cm)     0.189979\n",
      "petal length (cm)    3.116278\n",
      "petal width (cm)     0.581006\n",
      "target               0.671141\n",
      "dtype: float64\n",
      "\n",
      "Range:\n",
      " sepal length (cm)    3.6\n",
      "sepal width (cm)     2.4\n",
      "petal length (cm)    5.9\n",
      "petal width (cm)     2.4\n",
      "target               2.0\n",
      "dtype: float64\n",
      "\n",
      "Skewness:\n",
      " sepal length (cm)    0.314911\n",
      "sepal width (cm)     0.318966\n",
      "petal length (cm)   -0.274884\n",
      "petal width (cm)    -0.102967\n",
      "target               0.000000\n",
      "dtype: float64\n",
      "\n",
      "Kurtosis:\n",
      " sepal length (cm)   -0.552064\n",
      "sepal width (cm)     0.228249\n",
      "petal length (cm)   -1.402103\n",
      "petal width (cm)    -1.340604\n",
      "target              -1.510135\n",
      "dtype: float64\n"
     ]
    }
   ],
   "source": [
    "# Calculate basic descriptive statistics\n",
    "print(\"Mean:\\n\", df.mean())\n",
    "print(\"\\nMedian:\\n\", df.median())\n",
    "print(\"\\nMode:\\n\", df.mode().iloc[0])\n",
    "print(\"\\nStandard Deviation:\\n\", df.std())\n",
    "print(\"\\nVariance:\\n\", df.var())\n",
    "\n",
    "# Additional descriptive statistics\n",
    "print(\"\\nRange:\\n\", df.max() - df.min())\n",
    "print(\"\\nSkewness:\\n\", df.skew())\n",
    "print(\"\\nKurtosis:\\n\", df.kurt())"
   ]
  },
  {
   "cell_type": "markdown",
   "id": "cf0b6e28-68fd-4964-b761-43414743dd90",
   "metadata": {},
   "source": [
    "6.3 \"Performing Inferential Statistics\""
   ]
  },
  {
   "cell_type": "code",
   "execution_count": 26,
   "id": "cefac551-0582-415b-ba26-3197f64d0f9c",
   "metadata": {},
   "outputs": [
    {
     "name": "stdout",
     "output_type": "stream",
     "text": [
      "T-Statistic: 0.6409183514112012\n",
      "P-Value: 0.5225602746220779\n"
     ]
    }
   ],
   "source": [
    "# Example data: Sepal Length\n",
    "sepal_length_values = df['sepal length (cm)']\n",
    "\n",
    "# Hypothetical population mean for Sepal Length\n",
    "population_mean = 5.8  # Based on domain knowledge or assumption\n",
    "\n",
    "# Perform one-sample t-test\n",
    "t_stat, p_value = stats.ttest_1samp(sepal_length_values, population_mean)\n",
    "\n",
    "print(f\"T-Statistic: {t_stat}\")\n",
    "print(f\"P-Value: {p_value}\")\n"
   ]
  },
  {
   "cell_type": "markdown",
   "id": "672d31a9-7be2-487c-abe4-28880113b915",
   "metadata": {},
   "source": [
    "6.4 \"Confidence Intervals\""
   ]
  },
  {
   "cell_type": "code",
   "execution_count": 27,
   "id": "41460096-38ec-4e58-84c1-43c8926af156",
   "metadata": {},
   "outputs": [
    {
     "name": "stdout",
     "output_type": "stream",
     "text": [
      "95% Confidence Interval for Sepal Length: (5.710817588579892, 5.9758490780867755)\n"
     ]
    }
   ],
   "source": [
    "# Sample mean and standard error for Sepal Length\n",
    "sample_mean = np.mean(sepal_length_values)\n",
    "standard_error = stats.sem(sepal_length_values)\n",
    "\n",
    "# Compute 95% confidence interval for Sepal Length\n",
    "confidence_interval = stats.norm.interval(0.95, loc=sample_mean, scale=standard_error)\n",
    "\n",
    "print(f\"95% Confidence Interval for Sepal Length: {confidence_interval}\")\n"
   ]
  },
  {
   "cell_type": "markdown",
   "id": "d46c0575-4a7c-4274-9e8d-1ae4aad0a755",
   "metadata": {},
   "source": [
    "6.5 \"Regression Analysis\""
   ]
  },
  {
   "cell_type": "code",
   "execution_count": 28,
   "id": "4a5f7a20-de28-4e0f-9d75-7d48989cba40",
   "metadata": {},
   "outputs": [
    {
     "name": "stdout",
     "output_type": "stream",
     "text": [
      "                            OLS Regression Results                            \n",
      "==============================================================================\n",
      "Dep. Variable:                 target   R-squared:                       0.612\n",
      "Model:                            OLS   Adj. R-squared:                  0.610\n",
      "Method:                 Least Squares   F-statistic:                     233.8\n",
      "Date:                Wed, 04 Sep 2024   Prob (F-statistic):           2.89e-32\n",
      "Time:                        14:44:06   Log-Likelihood:                -111.35\n",
      "No. Observations:                 150   AIC:                             226.7\n",
      "Df Residuals:                     148   BIC:                             232.7\n",
      "Df Model:                           1                                         \n",
      "Covariance Type:            nonrobust                                         \n",
      "=====================================================================================\n",
      "                        coef    std err          t      P>|t|      [0.025      0.975]\n",
      "-------------------------------------------------------------------------------------\n",
      "const                -3.5240      0.299    -11.795      0.000      -4.114      -2.934\n",
      "sepal length (cm)     0.7742      0.051     15.292      0.000       0.674       0.874\n",
      "==============================================================================\n",
      "Omnibus:                        6.434   Durbin-Watson:                   1.228\n",
      "Prob(Omnibus):                  0.040   Jarque-Bera (JB):                6.576\n",
      "Skew:                           0.511   Prob(JB):                       0.0373\n",
      "Kurtosis:                       2.905   Cond. No.                         43.4\n",
      "==============================================================================\n",
      "\n",
      "Notes:\n",
      "[1] Standard Errors assume that the covariance matrix of the errors is correctly specified.\n"
     ]
    }
   ],
   "source": [
    "# Define independent variable (add constant for intercept)\n",
    "X = sm.add_constant(df['sepal length (cm)'])\n",
    "\n",
    "# Define dependent variable\n",
    "y = df['target']\n",
    "\n",
    "# Fit linear regression model\n",
    "model = sm.OLS(y, X).fit()\n",
    "\n",
    "# Print model summary\n",
    "print(model.summary())"
   ]
  }
 ],
 "metadata": {
  "kernelspec": {
   "display_name": "Python 3 (ipykernel)",
   "language": "python",
   "name": "python3"
  },
  "language_info": {
   "codemirror_mode": {
    "name": "ipython",
    "version": 3
   },
   "file_extension": ".py",
   "mimetype": "text/x-python",
   "name": "python",
   "nbconvert_exporter": "python",
   "pygments_lexer": "ipython3",
   "version": "3.11.7"
  }
 },
 "nbformat": 4,
 "nbformat_minor": 5
}
